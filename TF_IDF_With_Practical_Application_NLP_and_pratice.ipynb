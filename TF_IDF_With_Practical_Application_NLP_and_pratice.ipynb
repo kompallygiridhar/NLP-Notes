{
  "nbformat": 4,
  "nbformat_minor": 0,
  "metadata": {
    "colab": {
      "provenance": [],
      "authorship_tag": "ABX9TyP11yGA5ODopxUEqcLPiUHR",
      "include_colab_link": true
    },
    "kernelspec": {
      "name": "python3",
      "display_name": "Python 3"
    },
    "language_info": {
      "name": "python"
    }
  },
  "cells": [
    {
      "cell_type": "markdown",
      "metadata": {
        "id": "view-in-github",
        "colab_type": "text"
      },
      "source": [
        "<a href=\"https://colab.research.google.com/github/kompallygiridhar/NLP-Notes/blob/main/TF_IDF_With_Practical_Application_NLP_and_pratice.ipynb\" target=\"_parent\"><img src=\"https://colab.research.google.com/assets/colab-badge.svg\" alt=\"Open In Colab\"/></a>"
      ]
    },
    {
      "cell_type": "code",
      "execution_count": 5,
      "metadata": {
        "id": "N9mLFvV-uq4e"
      },
      "outputs": [],
      "source": [
        "text = \"\"\"A demon is a malevolent supernatural entity. Historically, belief in demons, or stories about demons, occurs in folklore, mythology, religion, and literature; these beliefs are reflected in media including comics, fiction, film, television, and video games. Belief in demons probably goes back to the Paleolithic age, stemming from humanity's fear of the unknown, the strange and the horrific.[1] In ancient Near Eastern religions and in the Abrahamic religions, including early Judaism[2] and ancient-medieval Christian demonology, a demon is considered a harmful spiritual entity which may cause demonic possession, calling for an exorcism. Large portions of Jewish demonology, a key influence on Christianity and Islam, originated from a later form of Zoroastrianism, and was transferred to Judaism during the Persian era.[3]\"\"\""
      ]
    },
    {
      "cell_type": "code",
      "source": [
        "!pip install nltk\n",
        "!pip install pandas\n",
        "import nltk\n",
        "import re\n",
        "import pandas as pd\n",
        "from nltk.corpus import stopwords\n",
        "from nltk.stem.porter import PorterStemmer\n",
        "from nltk.stem import WordNetLemmatizer\n",
        "nltk.download('punkt')\n",
        "nltk.download('wordnet')\n",
        "nltk.download('stopwords')\n",
        "ps = PorterStemmer()\n",
        "wordnet=WordNetLemmatizer()\n",
        "sentences = nltk.sent_tokenize(text)\n",
        "\n"
      ],
      "metadata": {
        "colab": {
          "base_uri": "https://localhost:8080/"
        },
        "id": "tk8KFy-dLroy",
        "outputId": "93239d07-9668-4689-a4b7-821e9b657302"
      },
      "execution_count": 14,
      "outputs": [
        {
          "output_type": "stream",
          "name": "stdout",
          "text": [
            "Requirement already satisfied: nltk in /usr/local/lib/python3.10/dist-packages (3.8.1)\n",
            "Requirement already satisfied: click in /usr/local/lib/python3.10/dist-packages (from nltk) (8.1.7)\n",
            "Requirement already satisfied: joblib in /usr/local/lib/python3.10/dist-packages (from nltk) (1.3.2)\n",
            "Requirement already satisfied: regex>=2021.8.3 in /usr/local/lib/python3.10/dist-packages (from nltk) (2023.12.25)\n",
            "Requirement already satisfied: tqdm in /usr/local/lib/python3.10/dist-packages (from nltk) (4.66.2)\n",
            "Requirement already satisfied: pandas in /usr/local/lib/python3.10/dist-packages (1.5.3)\n",
            "Requirement already satisfied: python-dateutil>=2.8.1 in /usr/local/lib/python3.10/dist-packages (from pandas) (2.8.2)\n",
            "Requirement already satisfied: pytz>=2020.1 in /usr/local/lib/python3.10/dist-packages (from pandas) (2023.4)\n",
            "Requirement already satisfied: numpy>=1.21.0 in /usr/local/lib/python3.10/dist-packages (from pandas) (1.25.2)\n",
            "Requirement already satisfied: six>=1.5 in /usr/local/lib/python3.10/dist-packages (from python-dateutil>=2.8.1->pandas) (1.16.0)\n"
          ]
        },
        {
          "output_type": "stream",
          "name": "stderr",
          "text": [
            "[nltk_data] Downloading package punkt to /root/nltk_data...\n",
            "[nltk_data]   Package punkt is already up-to-date!\n",
            "[nltk_data] Downloading package wordnet to /root/nltk_data...\n",
            "[nltk_data]   Package wordnet is already up-to-date!\n",
            "[nltk_data] Downloading package stopwords to /root/nltk_data...\n",
            "[nltk_data]   Package stopwords is already up-to-date!\n"
          ]
        }
      ]
    },
    {
      "cell_type": "code",
      "source": [
        "corpus = []\n",
        "for i in range(len(sentences)):\n",
        "    review = re.sub('[^a-zA-Z]', ' ', sentences[i])\n",
        "    review = review.lower()\n",
        "    review = review.split()\n",
        "    review = [wordnet.lemmatize(word) for word in review if not word in set(stopwords.words('english'))]\n",
        "    review = ' '.join(review)\n",
        "    corpus.append(review)\n",
        "\n",
        "from sklearn.feature_extraction.text import TfidfVectorizer\n",
        "cv = TfidfVectorizer()\n",
        "# cv = TfidfVectorizer(max_features = 3)\n",
        "X = cv.fit_transform(corpus).toarray()\n",
        "\n",
        "df = pd.DataFrame(X, columns=cv.get_feature_names_out())\n",
        "print(df)"
      ],
      "metadata": {
        "colab": {
          "base_uri": "https://localhost:8080/"
        },
        "id": "q5hijnYjPcjE",
        "outputId": "5ed62f37-fd56-4ac3-a53b-4b2e42aefc79"
      },
      "execution_count": 15,
      "outputs": [
        {
          "output_type": "stream",
          "name": "stdout",
          "text": [
            "   abrahamic       age   ancient      back    belief   calling     cause  \\\n",
            "0   0.000000  0.000000  0.000000  0.000000  0.000000  0.000000  0.000000   \n",
            "1   0.000000  0.000000  0.000000  0.000000  0.371943  0.000000  0.000000   \n",
            "2   0.000000  0.288382  0.000000  0.288382  0.236478  0.000000  0.000000   \n",
            "3   0.201083  0.000000  0.402167  0.000000  0.000000  0.201083  0.201083   \n",
            "4   0.000000  0.000000  0.000000  0.000000  0.000000  0.000000  0.000000   \n",
            "5   0.000000  0.000000  0.000000  0.000000  0.000000  0.000000  0.000000   \n",
            "\n",
            "   christian  christianity     comic  ...  spiritual  stemming     story  \\\n",
            "0   0.000000      0.000000  0.000000  ...   0.000000  0.000000  0.000000   \n",
            "1   0.000000      0.000000  0.226791  ...   0.000000  0.000000  0.226791   \n",
            "2   0.000000      0.000000  0.000000  ...   0.000000  0.288382  0.000000   \n",
            "3   0.201083      0.000000  0.000000  ...   0.201083  0.000000  0.000000   \n",
            "4   0.000000      0.255281  0.000000  ...   0.000000  0.000000  0.000000   \n",
            "5   0.000000      0.000000  0.000000  ...   0.000000  0.000000  0.000000   \n",
            "\n",
            "    strange  supernatural  television  transferred   unknown     video  \\\n",
            "0  0.000000      0.575019    0.000000     0.000000  0.000000  0.000000   \n",
            "1  0.000000      0.000000    0.226791     0.000000  0.000000  0.226791   \n",
            "2  0.288382      0.000000    0.000000     0.000000  0.288382  0.000000   \n",
            "3  0.000000      0.000000    0.000000     0.000000  0.000000  0.000000   \n",
            "4  0.000000      0.000000    0.000000     0.255281  0.000000  0.000000   \n",
            "5  0.000000      0.000000    0.000000     0.000000  0.000000  0.000000   \n",
            "\n",
            "   zoroastrianism  \n",
            "0        0.000000  \n",
            "1        0.000000  \n",
            "2        0.000000  \n",
            "3        0.000000  \n",
            "4        0.255281  \n",
            "5        0.000000  \n",
            "\n",
            "[6 rows x 64 columns]\n"
          ]
        }
      ]
    },
    {
      "cell_type": "code",
      "source": [],
      "metadata": {
        "id": "saAvUU3VPYjO"
      },
      "execution_count": null,
      "outputs": []
    }
  ]
}